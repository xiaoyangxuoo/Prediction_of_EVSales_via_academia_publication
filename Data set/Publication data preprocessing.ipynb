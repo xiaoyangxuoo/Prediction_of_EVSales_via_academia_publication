{
 "cells": [
  {
   "cell_type": "code",
   "execution_count": 3,
   "metadata": {},
   "outputs": [],
   "source": [
    "import numpy as np\n",
    "import pandas as pd\n",
    "raw_data  = pd.read_csv('Lithium Battery OR Battery.csv')\n",
    "#take a look at what the data looks like\n",
    "raw_data.head(5)\n",
    "raw_data.describe()\n",
    "#get the row index with null values of publisher or abstract, and drop it\n",
    "invalid_index = raw_data[raw_data['Publisher'].isnull() | raw_data['Abstract'].isnull()].index\n",
    "raw_data.drop(invalid_index, inplace=True)\n",
    "data = raw_data.reset_index(drop=True)\n",
    "\n",
    "\n",
    "#group the dataset by year and unique publisher, and calculate the sum of citations for each publisher\n",
    "# Grouped_data = data.groupby(['Year','Publisher']).Cites.sum()\n",
    "# #output = pd.DataFrame({'Cites':Grouped_data}).reset_index()\n",
    "# output1 = Grouped_data.to_frame(name = 'Citation Sum').reset_index()\n",
    "# output1.to_csv('../Grouped unique publisher citations sum.csv')\n",
    "keyword1 = 'SEI'\n",
    "keyword2 = 'cathode'\n",
    "keyword3 = 'anode'\n",
    "keyword4 = 'efficiency'\n",
    "keyword5 = 'electrode'\n",
    "for idx, row in data.iterrows():\n",
    "    data.loc[idx, 'Contains keyword \"'+ keyword1 + '\"?'] = keyword1 in row['Title'] or keyword1 in row['Abstract'] \n",
    "    data.loc[idx, 'Contains keyword \"'+ keyword2+ '\"?'] = keyword2 in row['Title'] or keyword2 in row['Abstract'] \n",
    "    data.loc[idx, 'Contains keyword \"'+ keyword3+ '\"?'] = keyword3 in row['Title'] or keyword3 in row['Abstract'] \n",
    "    data.loc[idx, 'Contains keyword \"'+ keyword4+ '\"?'] = keyword4 in row['Title'] or keyword4 in row['Abstract']\n",
    "    data.loc[idx, 'Contains keyword \"'+ keyword5+ '\"?'] = keyword5 in row['Title'] or keyword5 in row['Abstract']\n",
    "#pd.set_option('display.max_rows', None)\n",
    "#data.head(200)\n",
    "data.to_csv('../Updated Battery related publication dataset.csv')\n",
    "\n",
    "\n",
    "\n"
   ]
  },
  {
   "cell_type": "code",
   "execution_count": null,
   "metadata": {},
   "outputs": [],
   "source": []
  }
 ],
 "metadata": {
  "kernelspec": {
   "display_name": "Python 3",
   "language": "python",
   "name": "python3"
  },
  "language_info": {
   "codemirror_mode": {
    "name": "ipython",
    "version": 3
   },
   "file_extension": ".py",
   "mimetype": "text/x-python",
   "name": "python",
   "nbconvert_exporter": "python",
   "pygments_lexer": "ipython3",
   "version": "3.7.6"
  }
 },
 "nbformat": 4,
 "nbformat_minor": 4
}
